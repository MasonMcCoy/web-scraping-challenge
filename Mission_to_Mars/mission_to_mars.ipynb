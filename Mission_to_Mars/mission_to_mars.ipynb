{
 "cells": [
  {
   "cell_type": "code",
   "execution_count": 10,
   "metadata": {},
   "outputs": [],
   "source": [
    "from bs4 import BeautifulSoup\n",
    "from splinter import Browser\n",
    "import pandas"
   ]
  },
  {
   "cell_type": "code",
   "execution_count": 3,
   "metadata": {},
   "outputs": [],
   "source": [
    "nasa_url = 'https://mars.nasa.gov/news/?page=0&per_page=40&order=publish_date+desc%2Ccreated_at+desc&search=&category=19%2C165%2C184%2C204&blank_scope=Latest'\n",
    "jpl_url = 'https://www.jpl.nasa.gov/spaceimages/?search=&category=Mars'\n",
    "mars_facts_url = 'https://space-facts.com/mars/'\n",
    "mars_url = 'https://astrogeology.usgs.gov/search/results?q=hemisphere+enhanced&k1=target&v1=Mars'\n",
    "usgs_url = 'https://astrogeology.usgs.gov/'"
   ]
  },
  {
   "cell_type": "code",
   "execution_count": 6,
   "metadata": {},
   "outputs": [
    {
     "name": "stdout",
     "output_type": "stream",
     "text": [
      "5 Hidden Gems Are Riding Aboard NASA's Perseverance Rover\n",
      "The symbols, mottos, and small objects added to the agency's newest Mars rover serve a variety of purposes, from functional to decorative.\n"
     ]
    }
   ],
   "source": [
    "# SCRAPES FEATURED NEWS STORY #\n",
    "\n",
    "driver = 'C:\\\\Users\\\\Mason\\\\Desktop\\\\chromedriver'\n",
    "executable_path = {'executable_path': driver}\n",
    "browser = Browser('chrome', **executable_path, headless=False)\n",
    "\n",
    "browser.visit(nasa_url)\n",
    "html = browser.html\n",
    "nasa_soup = BeautifulSoup(html, 'html.parser')\n",
    "\n",
    "content_list = nasa_soup.find_all('div', class_='content_title')\n",
    "news_title = content_list[1]\n",
    "print(news_title.string)\n",
    "\n",
    "news_p = nasa_soup.find('div', class_='article_teaser_body').text\n",
    "print(news_p)\n",
    "\n",
    "browser.quit()"
   ]
  },
  {
   "cell_type": "code",
   "execution_count": 7,
   "metadata": {},
   "outputs": [
    {
     "name": "stdout",
     "output_type": "stream",
     "text": [
      "https://www.jpl.nasa.gov/spaceimages/images/largesize/PIA19063_hires.jpg\n"
     ]
    }
   ],
   "source": [
    "# SCRAPES FEATURED IMAGE #\n",
    "\n",
    "driver = 'C:\\\\Users\\\\Mason\\\\Desktop\\\\chromedriver'\n",
    "executable_path = {'executable_path': driver}\n",
    "browser = Browser('chrome', **executable_path, headless=False)\n",
    "\n",
    "jpl_url = 'https://www.jpl.nasa.gov/spaceimages/?search=&category=Mars'\n",
    "\n",
    "browser.visit(jpl_url)\n",
    "\n",
    "img_button = browser.find_by_css('a[class=\"button fancybox\"]')\n",
    "img_button.click()\n",
    "\n",
    "info_button = browser.find_by_css('div[class=\"buttons\"] a[class=\"button\"]')\n",
    "info_button.click()\n",
    "\n",
    "detail_button = browser.find_by_id('image_detail')\n",
    "detail_button.click() \n",
    "\n",
    "featured_image_url = browser.url\n",
    "print(featured_image_url)\n",
    "\n",
    "browser.quit()"
   ]
  },
  {
   "cell_type": "code",
   "execution_count": 11,
   "metadata": {},
   "outputs": [
    {
     "name": "stdout",
     "output_type": "stream",
     "text": [
      "                      0                              1\n",
      "0  Equatorial Diameter:                       6,792 km\n",
      "1       Polar Diameter:                       6,752 km\n",
      "2                 Mass:  6.39 × 10^23 kg (0.11 Earths)\n",
      "3                Moons:            2 (Phobos & Deimos)\n",
      "4       Orbit Distance:       227,943,824 km (1.38 AU)\n",
      "5         Orbit Period:           687 days (1.9 years)\n",
      "6  Surface Temperature:                   -87 to -5 °C\n",
      "7         First Record:              2nd millennium BC\n",
      "8          Recorded By:           Egyptian astronomers\n"
     ]
    }
   ],
   "source": [
    "# SCRAPES MARS FACTS TABLE INTO HTML TABLE #\n",
    "\n",
    "mars_facts_url = 'https://space-facts.com/mars/'\n",
    "\n",
    "facts_table = pandas.read_html(mars_facts_url)\n",
    "print(facts_table[0]) #THIS MAY NOT BE IN THE CORRECT FORMAT!!!"
   ]
  },
  {
   "cell_type": "code",
   "execution_count": 9,
   "metadata": {},
   "outputs": [
    {
     "name": "stdout",
     "output_type": "stream",
     "text": [
      "[{'title': 'Cerberus Hemisphere', 'img_url': 'https://astropedia.astrogeology.usgs.gov/download/Mars/Viking/cerberus_enhanced.tif/full.jpg'}, {'title': 'Schiaparelli Hemisphere', 'img_url': 'https://astropedia.astrogeology.usgs.gov/download/Mars/Viking/schiaparelli_enhanced.tif/full.jpg'}, {'title': 'Syrtis Major Hemisphere', 'img_url': 'https://astropedia.astrogeology.usgs.gov/download/Mars/Viking/syrtis_major_enhanced.tif/full.jpg'}, {'title': 'Valles Marineris Hemisphere', 'img_url': 'https://astropedia.astrogeology.usgs.gov/download/Mars/Viking/valles_marineris_enhanced.tif/full.jpg'}]\n"
     ]
    }
   ],
   "source": [
    "# SCRAPES HEMISPHERE TITLES AND IMAGE HREFS INTO DICTIONARY #\n",
    "\n",
    "driver = 'C:\\\\Users\\\\Mason\\\\Desktop\\\\chromedriver'\n",
    "executable_path = {'executable_path': driver}\n",
    "browser = Browser('chrome', **executable_path, headless=False)\n",
    "\n",
    "mars_url = 'https://astrogeology.usgs.gov/search/results?q=hemisphere+enhanced&k1=target&v1=Mars'\n",
    "usgs_url = 'https://astrogeology.usgs.gov/'\n",
    "\n",
    "browser.visit(mars_url)\n",
    "hemi_html = browser.html\n",
    "\n",
    "hemi_soup = BeautifulSoup(hemi_html, 'html.parser')\n",
    "\n",
    "all_hemis = hemi_soup.find('div', class_='collapsible results')\n",
    "indv_hemis = all_hemis.find_all('div', class_='item')\n",
    "\n",
    "hemisphere_image_urls = []\n",
    "\n",
    "for hemi_item in indv_hemis:\n",
    "    hemi = hemi_item.find('div', class_=\"description\")\n",
    "    hemi_title = hemi.h3.text\n",
    "    title = hemi_title.replace(' Enhanced', '')\n",
    "    \n",
    "    hemi_link = hemi.a[\"href\"]    \n",
    "    \n",
    "    browser.visit(usgs_url + hemi_link)\n",
    "    img_html = browser.html\n",
    "    \n",
    "    img_soup = BeautifulSoup(img_html, 'html.parser')\n",
    "    \n",
    "    img_link = img_soup.find('div', class_='downloads')\n",
    "    img_url = img_link.find('li').a['href']\n",
    "\n",
    "    img_dict = {}\n",
    "    img_dict['title'] = title\n",
    "    img_dict['img_url'] = img_url\n",
    "    \n",
    "    hemisphere_image_urls.append(img_dict)\n",
    "\n",
    "print(hemisphere_image_urls)"
   ]
  },
  {
   "cell_type": "code",
   "execution_count": null,
   "metadata": {},
   "outputs": [],
   "source": []
  }
 ],
 "metadata": {
  "kernelspec": {
   "display_name": "Python 3",
   "language": "python",
   "name": "python3"
  },
  "language_info": {
   "codemirror_mode": {
    "name": "ipython",
    "version": 3
   },
   "file_extension": ".py",
   "mimetype": "text/x-python",
   "name": "python",
   "nbconvert_exporter": "python",
   "pygments_lexer": "ipython3",
   "version": "3.8.3"
  }
 },
 "nbformat": 4,
 "nbformat_minor": 4
}
